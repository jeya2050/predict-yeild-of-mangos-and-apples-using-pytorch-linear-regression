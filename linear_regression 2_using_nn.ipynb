{
 "cells": [
  {
   "cell_type": "code",
   "execution_count": 20,
   "metadata": {},
   "outputs": [],
   "source": [
    "import torch\n",
    "import torch.nn as nn"
   ]
  },
  {
   "cell_type": "code",
   "execution_count": 21,
   "metadata": {},
   "outputs": [
    {
     "name": "stdout",
     "output_type": "stream",
     "text": [
      "torch.float32\n",
      "torch.Size([15, 3])\n"
     ]
    }
   ],
   "source": [
    "input=torch.tensor([\n",
    "[73,67,43],\n",
    "[91,88,64],\n",
    "[87,134,58],\n",
    "[102,43,37],\n",
    "[69,96,70],\n",
    "[74,66,43],\n",
    "[91,87,65],\n",
    "[88,134,59],\n",
    "[101,44,37],\n",
    "[68,96,71],\n",
    "[73,66,44],\n",
    "[92,87,64],\n",
    "[87,135,57],\n",
    "[103,43,36],\n",
    "[68,97,70]\n",
    "],dtype=torch.float32)\n",
    "print(input.dtype)\n",
    "print(input.shape)"
   ]
  },
  {
   "cell_type": "code",
   "execution_count": 22,
   "metadata": {},
   "outputs": [
    {
     "name": "stdout",
     "output_type": "stream",
     "text": [
      "torch.float32\n",
      "torch.Size([15, 2])\n"
     ]
    }
   ],
   "source": [
    "target=torch.tensor([\n",
    "[56,70],\n",
    "[81,101],\n",
    "[119,113],\n",
    "[22,37],\n",
    "[103,119],\n",
    "[57,69],\n",
    "[80,102],\n",
    "[118,132],\n",
    "[21,38],\n",
    "[104,118],\n",
    "[57,69],\n",
    "[82,100],\n",
    "[118,134],\n",
    "[20,38],\n",
    "[102,120]\n",
    "],dtype=torch.float32)\n",
    "print(target.dtype)\n",
    "print(target.shape)"
   ]
  },
  {
   "cell_type": "code",
   "execution_count": 23,
   "metadata": {},
   "outputs": [
    {
     "data": {
      "text/plain": [
       "(tensor([102.,  43.,  37.]), tensor([22., 37.]))"
      ]
     },
     "execution_count": 23,
     "metadata": {},
     "output_type": "execute_result"
    }
   ],
   "source": [
    "from torch.utils.data import TensorDataset\n",
    "train_ds=TensorDataset(input,target)\n",
    "train_ds[3]"
   ]
  },
  {
   "cell_type": "code",
   "execution_count": 24,
   "metadata": {},
   "outputs": [
    {
     "name": "stdout",
     "output_type": "stream",
     "text": [
      "tensor([[ 73.,  67.,  43.],\n",
      "        [ 69.,  96.,  70.],\n",
      "        [ 68.,  97.,  70.],\n",
      "        [101.,  44.,  37.],\n",
      "        [102.,  43.,  37.]])\n",
      "tensor([[ 56.,  70.],\n",
      "        [103., 119.],\n",
      "        [102., 120.],\n",
      "        [ 21.,  38.],\n",
      "        [ 22.,  37.]])\n"
     ]
    }
   ],
   "source": [
    "from torch.utils.data import DataLoader\n",
    "batch_size=5\n",
    "train_dl=DataLoader(train_ds,batch_size,shuffle=True)\n",
    "for a,b in train_dl:\n",
    "    print(a)\n",
    "    print(b)\n",
    "    break"
   ]
  },
  {
   "cell_type": "markdown",
   "metadata": {},
   "source": [
    "calculate the predctions"
   ]
  },
  {
   "cell_type": "code",
   "execution_count": 25,
   "metadata": {},
   "outputs": [
    {
     "name": "stdout",
     "output_type": "stream",
     "text": [
      "Parameter containing:\n",
      "tensor([[ 0.2259, -0.3174, -0.2916],\n",
      "        [ 0.0251, -0.4821,  0.0691]], requires_grad=True)\n",
      "Parameter containing:\n",
      "tensor([ 0.1395, -0.0355], requires_grad=True)\n"
     ]
    }
   ],
   "source": [
    "model=nn.Linear(3,2)\n",
    "print(model.weight)\n",
    "print(model.bias)"
   ]
  },
  {
   "cell_type": "code",
   "execution_count": 26,
   "metadata": {},
   "outputs": [
    {
     "data": {
      "text/plain": [
       "tensor([[-17.1692, -27.5308],\n",
       "        [-25.8906, -35.7512],\n",
       "        [-39.6434, -58.4434],\n",
       "        [ -1.2505, -15.6465],\n",
       "        [-35.1498, -39.7459],\n",
       "        [-16.6259, -27.0235],\n",
       "        [-25.8648, -35.2000],\n",
       "        [-39.7090, -58.3492],\n",
       "        [ -1.7938, -16.1538],\n",
       "        [-35.6674, -39.7019],\n",
       "        [-17.1434, -26.9795],\n",
       "        [-25.3473, -35.2440],\n",
       "        [-39.6691, -58.9947],\n",
       "        [ -0.7329, -15.6906],\n",
       "        [-35.6931, -40.2531]], grad_fn=<AddmmBackward0>)"
      ]
     },
     "execution_count": 26,
     "metadata": {},
     "output_type": "execute_result"
    }
   ],
   "source": [
    "preds=model(input)\n",
    "preds"
   ]
  },
  {
   "cell_type": "markdown",
   "metadata": {},
   "source": [
    "calculate the mean square error(MSE)"
   ]
  },
  {
   "cell_type": "code",
   "execution_count": 27,
   "metadata": {},
   "outputs": [
    {
     "data": {
      "text/plain": [
       "tensor(15178.0215, grad_fn=<MseLossBackward0>)"
      ]
     },
     "execution_count": 27,
     "metadata": {},
     "output_type": "execute_result"
    }
   ],
   "source": [
    "import torch.nn.functional as f\n",
    "loss_fn=f.mse_loss\n",
    "loss=loss_fn(preds,target)\n",
    "loss"
   ]
  },
  {
   "cell_type": "markdown",
   "metadata": {},
   "source": [
    "compute the gradient"
   ]
  },
  {
   "cell_type": "code",
   "execution_count": 28,
   "metadata": {},
   "outputs": [],
   "source": [
    "opt=torch.optim.SGD(model.parameters(),lr=1e-5)"
   ]
  },
  {
   "cell_type": "code",
   "execution_count": 29,
   "metadata": {},
   "outputs": [],
   "source": [
    "def fit(num_epochs):\n",
    "    for epoch in range(num_epochs):\n",
    "        for a,b in train_dl:\n",
    "            preds=model(a)\n",
    "            loss=loss_fn(preds,b)\n",
    "            loss.backward()\n",
    "            opt.step()\n",
    "            opt.zero_grad()\n",
    "        if (epoch+1) %10==0:\n",
    "            print(\"current epoch / total epochs done : [{}/{}] ,current loss : {}\".format(epoch+1,num_epochs,loss.item()))\n",
    "    "
   ]
  },
  {
   "cell_type": "code",
   "execution_count": 30,
   "metadata": {},
   "outputs": [
    {
     "name": "stdout",
     "output_type": "stream",
     "text": [
      "current epoch / total epochs done : [10/100] ,current loss : 246.3782196044922\n",
      "current epoch / total epochs done : [20/100] ,current loss : 746.6212158203125\n",
      "current epoch / total epochs done : [30/100] ,current loss : 283.3976745605469\n",
      "current epoch / total epochs done : [40/100] ,current loss : 426.6549377441406\n",
      "current epoch / total epochs done : [50/100] ,current loss : 45.295066833496094\n",
      "current epoch / total epochs done : [60/100] ,current loss : 42.71321487426758\n",
      "current epoch / total epochs done : [70/100] ,current loss : 137.5131072998047\n",
      "current epoch / total epochs done : [80/100] ,current loss : 88.04792022705078\n",
      "current epoch / total epochs done : [90/100] ,current loss : 90.79582214355469\n",
      "current epoch / total epochs done : [100/100] ,current loss : 60.15643310546875\n"
     ]
    }
   ],
   "source": [
    "fit(100)"
   ]
  },
  {
   "cell_type": "code",
   "execution_count": 31,
   "metadata": {},
   "outputs": [
    {
     "data": {
      "text/plain": [
       "tensor([[ 58.7553,  70.7608],\n",
       "        [ 79.9829,  98.5021],\n",
       "        [119.6611, 127.9784],\n",
       "        [ 31.0733,  46.7141],\n",
       "        [ 92.3592, 110.3649],\n",
       "        [ 57.7045,  69.9477],\n",
       "        [ 79.3706,  98.4593],\n",
       "        [119.7647, 128.5649],\n",
       "        [ 32.1241,  47.5273],\n",
       "        [ 92.7976, 111.1353],\n",
       "        [ 58.1429,  70.7180],\n",
       "        [ 78.9321,  97.6889],\n",
       "        [120.2735, 128.0212],\n",
       "        [ 30.6349,  45.9438],\n",
       "        [ 93.4100, 111.1781]], grad_fn=<AddmmBackward0>)"
      ]
     },
     "execution_count": 31,
     "metadata": {},
     "output_type": "execute_result"
    }
   ],
   "source": [
    "preds=model(input)\n",
    "preds"
   ]
  },
  {
   "cell_type": "code",
   "execution_count": 32,
   "metadata": {},
   "outputs": [
    {
     "data": {
      "text/plain": [
       "tensor([[ 56.,  70.],\n",
       "        [ 81., 101.],\n",
       "        [119., 113.],\n",
       "        [ 22.,  37.],\n",
       "        [103., 119.],\n",
       "        [ 57.,  69.],\n",
       "        [ 80., 102.],\n",
       "        [118., 132.],\n",
       "        [ 21.,  38.],\n",
       "        [104., 118.],\n",
       "        [ 57.,  69.],\n",
       "        [ 82., 100.],\n",
       "        [118., 134.],\n",
       "        [ 20.,  38.],\n",
       "        [102., 120.]])"
      ]
     },
     "execution_count": 32,
     "metadata": {},
     "output_type": "execute_result"
    }
   ],
   "source": [
    "target"
   ]
  },
  {
   "cell_type": "code",
   "execution_count": 33,
   "metadata": {},
   "outputs": [],
   "source": [
    "result=model(torch.tensor([[70,60,50.]]))"
   ]
  },
  {
   "cell_type": "code",
   "execution_count": 34,
   "metadata": {},
   "outputs": [
    {
     "name": "stdout",
     "output_type": "stream",
     "text": [
      "tensor(54.9710, grad_fn=<UnbindBackward0>)\n",
      "tensor(70.7368, grad_fn=<UnbindBackward0>)\n"
     ]
    }
   ],
   "source": [
    "for apple,orange in result:\n",
    "    print(apple)\n",
    "    print(orange)\n"
   ]
  },
  {
   "cell_type": "markdown",
   "metadata": {},
   "source": []
  },
  {
   "cell_type": "code",
   "execution_count": 35,
   "metadata": {},
   "outputs": [
    {
     "name": "stdout",
     "output_type": "stream",
     "text": [
      "the total rate of apple yeilded is : 54.97104263305664 ,and the orange yeilded is : 70.7367935180664\n"
     ]
    }
   ],
   "source": [
    "print(\"the total rate of apple yeilded is : {} ,and the orange yeilded is : {}\".format(apple,orange))"
   ]
  }
 ],
 "metadata": {
  "kernelspec": {
   "display_name": "Python 3.10.6 64-bit",
   "language": "python",
   "name": "python3"
  },
  "language_info": {
   "codemirror_mode": {
    "name": "ipython",
    "version": 3
   },
   "file_extension": ".py",
   "mimetype": "text/x-python",
   "name": "python",
   "nbconvert_exporter": "python",
   "pygments_lexer": "ipython3",
   "version": "3.10.6"
  },
  "orig_nbformat": 4,
  "vscode": {
   "interpreter": {
    "hash": "aee8b7b246df8f9039afb4144a1f6fd8d2ca17a180786b69acc140d282b71a49"
   }
  }
 },
 "nbformat": 4,
 "nbformat_minor": 2
}
